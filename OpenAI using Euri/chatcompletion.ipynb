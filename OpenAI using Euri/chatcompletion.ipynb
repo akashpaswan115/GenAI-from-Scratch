{
 "cells": [
  {
   "cell_type": "code",
   "execution_count": 25,
   "id": "8ad0d619",
   "metadata": {},
   "outputs": [
    {
     "name": "stdout",
     "output_type": "stream",
     "text": [
      "Number of choices: 1\n"
     ]
    },
    {
     "data": {
      "text/plain": [
       "{'id': 'chatcmpl-BgZtuTQXwnGpZo6hNdSqIaqFAM35n',\n",
       " 'object': 'chat.completion',\n",
       " 'created': 1749487478,\n",
       " 'model': 'gpt-4.1-nano',\n",
       " 'choices': [{'index': 0,\n",
       "   'message': {'role': 'assistant',\n",
       "    'content': 'Time travel refers to the hypothetical concept of moving between different points in time, similar to how we move through space. While it is a popular theme in science fiction, it remains speculative and has not been demonstrated to be possible with current scientific understanding.\\n\\n**Theoretical Foundations:**\\n- **Relativity:** Albert Einstein\\'s theories of special and general relativity suggest that time is relative and can be affected by speed and gravity. For example, traveling at speeds close to the speed of light can cause time dilation, where time appears to pass differently for the traveler compared to someone stationary.\\n- **Wormholes:** These are theoretical tunnels in spacetime that could connect distant points in space and time. If wormholes exist and could be stabilized, they might allow for shortcuts through spacetime, potentially enabling time travel.\\n- **Cosmic Strings and Other Hypotheticals:** Some theories propose exotic objects or conditions that might permit time loops or backward time travel, but these remain speculative.\\n\\n**Types of Time Travel:**\\n- **Forward Time Travel:** Already possible in principle (and experimentally) through time dilation effects observed with high-speed travel or strong gravitational fields.\\n- **Backward Time Travel:** More controversial and problematic, involving paradoxes such as the \"grandfather paradox,\" where altering the past could prevent one\\'s own existence.\\n\\n**Current Status:**\\n- No experimental evidence confirms the feasibility of backward time travel.\\n- Many physicists consider it theoretically possible under certain conditions but practically unachievable with current technology.\\n\\n**In Summary:**\\nTime travel involves moving between different points in time, with the concept rooted in advanced physics theories. While forward time travel is supported by relativity, backward time travel remains a fascinating but unproven idea largely explored through science fiction and theoretical physics.'},\n",
       "   'finish_reason': 'stop'}],\n",
       " 'usage': {'prompt_tokens': 10, 'completion_tokens': 353, 'total_tokens': 363}}"
      ]
     },
     "execution_count": 25,
     "metadata": {},
     "output_type": "execute_result"
    }
   ],
   "source": [
    "import os\n",
    "import requests\n",
    "from dotenv import load_dotenv\n",
    "\n",
    "load_dotenv()\n",
    "api_token = os.getenv(\"EURON_API_TOKEN\")\n",
    "\n",
    "response = requests.post(\n",
    "    url=\"https://api.euron.one/api/v1/euri/alpha/chat/completions\",\n",
    "    headers={\n",
    "        \"Content-Type\": \"application/json\",\n",
    "        \"Authorization\": f\"Bearer {api_token}\",\n",
    "    },\n",
    "    json={\n",
    "        \"model\": \"gpt-4.1-nano\",\n",
    "        \"messages\": [\n",
    "            {\"role\": \"user\", \"content\": \"Explain time travel\"}\n",
    "        ],\n",
    "        \"max_tokens\":500,\n",
    "        \"temperature\":0.6,\n",
    "        \"n\": 5\n",
    "    }\n",
    ")\n",
    "\n",
    "data = response.json()\n",
    "#print(data[\"choices\"][0][\"message\"][\"content\"])\n",
    "print(\"Number of choices:\", len(data.get(\"choices\", [])))\n",
    "data\n"
   ]
  },
  {
   "cell_type": "code",
   "execution_count": 26,
   "id": "971d5bd5",
   "metadata": {},
   "outputs": [],
   "source": [
    "response = requests.post(\n",
    "    url=\"https://api.euron.one/api/v1/euri/alpha/chat/completions\",\n",
    "    headers={\n",
    "        \"Content-Type\": \"application/json\",\n",
    "        \"Authorization\": f\"Bearer {api_token}\",\n",
    "    },\n",
    "    json={\n",
    "        \"model\": \"gpt-4.1-nano\",\n",
    "        \"messages\": [\n",
    "            {\"role\": \"user\", \"content\": \"Act as an ai model to create an image of an astronaut carrying indian flag in jupiter\"}\n",
    "        ],\n",
    "        \n",
    "    }\n",
    ")\n"
   ]
  },
  {
   "cell_type": "code",
   "execution_count": 29,
   "id": "f204f9d5",
   "metadata": {},
   "outputs": [],
   "source": [
    "data = response.json()"
   ]
  },
  {
   "cell_type": "code",
   "execution_count": 30,
   "id": "35b876b8",
   "metadata": {},
   "outputs": [
    {
     "data": {
      "text/plain": [
       "{'id': 'chatcmpl-BgZxOPk0nogJKkprfhhboqAU5Kz2u',\n",
       " 'object': 'chat.completion',\n",
       " 'created': 1749487694,\n",
       " 'model': 'gpt-4.1-nano',\n",
       " 'choices': [{'index': 0,\n",
       "   'message': {'role': 'assistant',\n",
       "    'content': \"I'm unable to create images directly, but I can help you visualize or describe the scene in detail, or guide you on how to create such an image using graphic design tools or AI art generators. Would you like a detailed description or suggestions on how to generate this image?\"},\n",
       "   'finish_reason': 'stop'}],\n",
       " 'usage': {'prompt_tokens': 25, 'completion_tokens': 54, 'total_tokens': 79}}"
      ]
     },
     "execution_count": 30,
     "metadata": {},
     "output_type": "execute_result"
    }
   ],
   "source": [
    "data"
   ]
  },
  {
   "cell_type": "code",
   "execution_count": null,
   "id": "1444befd",
   "metadata": {},
   "outputs": [],
   "source": []
  }
 ],
 "metadata": {
  "kernelspec": {
   "display_name": "base",
   "language": "python",
   "name": "python3"
  },
  "language_info": {
   "codemirror_mode": {
    "name": "ipython",
    "version": 3
   },
   "file_extension": ".py",
   "mimetype": "text/x-python",
   "name": "python",
   "nbconvert_exporter": "python",
   "pygments_lexer": "ipython3",
   "version": "3.12.7"
  }
 },
 "nbformat": 4,
 "nbformat_minor": 5
}
